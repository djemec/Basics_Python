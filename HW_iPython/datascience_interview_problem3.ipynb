{
 "cells": [
  {
   "cell_type": "markdown",
   "metadata": {},
   "source": [
    "Imagine you are a recent hire at the bank. Your manager fills you in about a discussion among executives from Marketing and Wealth Management regarding the hypothesis that clients with more kinds of products at the bank keep more deposit dollars here.  Your manager asks you to investigate this issue and prepare a report that can go to the executives from both departments, as well as to the Chief Deposit Officer.  For this purpose, it is sufficient to consider three broad product categories: deposits (checking and savings), loans (assets borrowed from the bank), and wealth management (stocks and bonds).\n",
    "\n",
    "The initial exercises below promote familiarity with the client and bank account data needed to address this hypothesis.  The final question asks you to make an assessment on the matter."
   ]
  },
  {
   "cell_type": "code",
   "execution_count": 206,
   "metadata": {},
   "outputs": [
    {
     "data": {
      "text/html": [
       "<div>\n",
       "<style scoped>\n",
       "    .dataframe tbody tr th:only-of-type {\n",
       "        vertical-align: middle;\n",
       "    }\n",
       "\n",
       "    .dataframe tbody tr th {\n",
       "        vertical-align: top;\n",
       "    }\n",
       "\n",
       "    .dataframe thead th {\n",
       "        text-align: right;\n",
       "    }\n",
       "</style>\n",
       "<table border=\"1\" class=\"dataframe\">\n",
       "  <thead>\n",
       "    <tr style=\"text-align: right;\">\n",
       "      <th></th>\n",
       "      <th>AccountBalance</th>\n",
       "      <th>AccountID</th>\n",
       "      <th>AccountStatus</th>\n",
       "      <th>AccountType</th>\n",
       "    </tr>\n",
       "  </thead>\n",
       "  <tbody>\n",
       "    <tr>\n",
       "      <th>0</th>\n",
       "      <td>25127.38</td>\n",
       "      <td>44363</td>\n",
       "      <td>open</td>\n",
       "      <td>D</td>\n",
       "    </tr>\n",
       "    <tr>\n",
       "      <th>1</th>\n",
       "      <td>25662.58</td>\n",
       "      <td>36801</td>\n",
       "      <td>open</td>\n",
       "      <td>D</td>\n",
       "    </tr>\n",
       "    <tr>\n",
       "      <th>2</th>\n",
       "      <td>3149.79</td>\n",
       "      <td>38963</td>\n",
       "      <td>open</td>\n",
       "      <td>D</td>\n",
       "    </tr>\n",
       "    <tr>\n",
       "      <th>3</th>\n",
       "      <td>870489.00</td>\n",
       "      <td>53464</td>\n",
       "      <td>open</td>\n",
       "      <td>L</td>\n",
       "    </tr>\n",
       "    <tr>\n",
       "      <th>4</th>\n",
       "      <td>714025.00</td>\n",
       "      <td>30787</td>\n",
       "      <td>open</td>\n",
       "      <td>L</td>\n",
       "    </tr>\n",
       "  </tbody>\n",
       "</table>\n",
       "</div>"
      ],
      "text/plain": [
       "   AccountBalance  AccountID AccountStatus AccountType\n",
       "0        25127.38      44363          open           D\n",
       "1        25662.58      36801          open           D\n",
       "2         3149.79      38963          open           D\n",
       "3       870489.00      53464          open           L\n",
       "4       714025.00      30787          open           L"
      ]
     },
     "metadata": {},
     "output_type": "display_data"
    },
    {
     "data": {
      "text/html": [
       "<div>\n",
       "<style scoped>\n",
       "    .dataframe tbody tr th:only-of-type {\n",
       "        vertical-align: middle;\n",
       "    }\n",
       "\n",
       "    .dataframe tbody tr th {\n",
       "        vertical-align: top;\n",
       "    }\n",
       "\n",
       "    .dataframe thead th {\n",
       "        text-align: right;\n",
       "    }\n",
       "</style>\n",
       "<table border=\"1\" class=\"dataframe\">\n",
       "  <thead>\n",
       "    <tr style=\"text-align: right;\">\n",
       "      <th></th>\n",
       "      <th>ClientID</th>\n",
       "      <th>Gender</th>\n",
       "      <th>Name</th>\n",
       "      <th>Region</th>\n",
       "    </tr>\n",
       "  </thead>\n",
       "  <tbody>\n",
       "    <tr>\n",
       "      <th>0</th>\n",
       "      <td>1353110</td>\n",
       "      <td>M</td>\n",
       "      <td>Zeus Odetta</td>\n",
       "      <td>NE</td>\n",
       "    </tr>\n",
       "    <tr>\n",
       "      <th>1</th>\n",
       "      <td>168163</td>\n",
       "      <td>M</td>\n",
       "      <td>Eliza Aye</td>\n",
       "      <td>SW</td>\n",
       "    </tr>\n",
       "    <tr>\n",
       "      <th>2</th>\n",
       "      <td>7170</td>\n",
       "      <td>M</td>\n",
       "      <td>Claude Janissa</td>\n",
       "      <td>SE</td>\n",
       "    </tr>\n",
       "    <tr>\n",
       "      <th>3</th>\n",
       "      <td>747320</td>\n",
       "      <td>F</td>\n",
       "      <td>Coreena Renada</td>\n",
       "      <td>NE</td>\n",
       "    </tr>\n",
       "    <tr>\n",
       "      <th>4</th>\n",
       "      <td>754670</td>\n",
       "      <td>M</td>\n",
       "      <td>Laurance Kalishia</td>\n",
       "      <td>NE</td>\n",
       "    </tr>\n",
       "  </tbody>\n",
       "</table>\n",
       "</div>"
      ],
      "text/plain": [
       "   ClientID Gender               Name Region\n",
       "0   1353110      M        Zeus Odetta     NE\n",
       "1    168163      M          Eliza Aye     SW\n",
       "2      7170      M     Claude Janissa     SE\n",
       "3    747320      F     Coreena Renada     NE\n",
       "4    754670      M  Laurance Kalishia     NE"
      ]
     },
     "metadata": {},
     "output_type": "display_data"
    },
    {
     "data": {
      "text/html": [
       "<div>\n",
       "<style scoped>\n",
       "    .dataframe tbody tr th:only-of-type {\n",
       "        vertical-align: middle;\n",
       "    }\n",
       "\n",
       "    .dataframe tbody tr th {\n",
       "        vertical-align: top;\n",
       "    }\n",
       "\n",
       "    .dataframe thead th {\n",
       "        text-align: right;\n",
       "    }\n",
       "</style>\n",
       "<table border=\"1\" class=\"dataframe\">\n",
       "  <thead>\n",
       "    <tr style=\"text-align: right;\">\n",
       "      <th></th>\n",
       "      <th>AccountID</th>\n",
       "      <th>ClientID</th>\n",
       "    </tr>\n",
       "  </thead>\n",
       "  <tbody>\n",
       "    <tr>\n",
       "      <th>0</th>\n",
       "      <td>44363</td>\n",
       "      <td>1353110</td>\n",
       "    </tr>\n",
       "    <tr>\n",
       "      <th>1</th>\n",
       "      <td>36801</td>\n",
       "      <td>1353110</td>\n",
       "    </tr>\n",
       "    <tr>\n",
       "      <th>2</th>\n",
       "      <td>38963</td>\n",
       "      <td>1353110</td>\n",
       "    </tr>\n",
       "    <tr>\n",
       "      <th>3</th>\n",
       "      <td>53464</td>\n",
       "      <td>1353110</td>\n",
       "    </tr>\n",
       "    <tr>\n",
       "      <th>4</th>\n",
       "      <td>30787</td>\n",
       "      <td>1353110</td>\n",
       "    </tr>\n",
       "  </tbody>\n",
       "</table>\n",
       "</div>"
      ],
      "text/plain": [
       "   AccountID  ClientID\n",
       "0      44363   1353110\n",
       "1      36801   1353110\n",
       "2      38963   1353110\n",
       "3      53464   1353110\n",
       "4      30787   1353110"
      ]
     },
     "metadata": {},
     "output_type": "display_data"
    },
    {
     "name": "stdout",
     "output_type": "stream",
     "text": [
      "Account table dimensions:  (4139, 4)\n",
      "Client table dimensions:  (902, 4)\n",
      "Client-account bridge table dimensions:  (4139, 2)\n"
     ]
    }
   ],
   "source": [
    "import pandas as pd\n",
    "import numpy as np\n",
    "from IPython.display import display\n",
    "import matplotlib.pyplot as plt\n",
    "import statsmodels.formula.api as smf\n",
    "\n",
    "%matplotlib inline\n",
    "\n",
    "acctdf = pd.read_csv(\"data/AccountTable.csv\")\n",
    "clientdf = pd.read_csv('data/ClientTable.csv')\n",
    "bridgedf = pd.read_csv('data/ClientAcctFact.csv')\n",
    "\n",
    "display(acctdf.head())\n",
    "display(clientdf.head())\n",
    "display(bridgedf.head())\n",
    "\n",
    "print(\"Account table dimensions: \", acctdf.shape)\n",
    "print(\"Client table dimensions: \", clientdf.shape)\n",
    "print('Client-account bridge table dimensions: ', bridgedf.shape)"
   ]
  },
  {
   "cell_type": "markdown",
   "metadata": {},
   "source": [
    "# Client Table Questions"
   ]
  },
  {
   "cell_type": "markdown",
   "metadata": {},
   "source": [
    "### How many clients are in the bank?"
   ]
  },
  {
   "cell_type": "code",
   "execution_count": 207,
   "metadata": {},
   "outputs": [
    {
     "name": "stdout",
     "output_type": "stream",
     "text": [
      "Total Unique Clients: 902\n"
     ]
    }
   ],
   "source": [
    "print('Total Unique Clients: %d' % len(set(clientdf['ClientID'])))"
   ]
  },
  {
   "cell_type": "markdown",
   "metadata": {},
   "source": [
    "### How many clients are in each region?"
   ]
  },
  {
   "cell_type": "code",
   "execution_count": 208,
   "metadata": {},
   "outputs": [
    {
     "data": {
      "text/plain": [
       "Region\n",
       "NE    421\n",
       "NW    115\n",
       "SE    195\n",
       "SW    171\n",
       "Name: ClientID, dtype: int64"
      ]
     },
     "execution_count": 208,
     "metadata": {},
     "output_type": "execute_result"
    }
   ],
   "source": [
    "clientdf.groupby(by = 'Region')['ClientID'].count()"
   ]
  },
  {
   "cell_type": "markdown",
   "metadata": {},
   "source": [
    "### Create a bar plot of gender frequency"
   ]
  },
  {
   "cell_type": "code",
   "execution_count": 209,
   "metadata": {},
   "outputs": [
    {
     "data": {
      "text/plain": [
       "<matplotlib.axes._subplots.AxesSubplot at 0x1a23ca5cf8>"
      ]
     },
     "execution_count": 209,
     "metadata": {},
     "output_type": "execute_result"
    },
    {
     "data": {
      "image/png": "[encoded data removed]",
      "text/plain": [
       "<Figure size 432x288 with 1 Axes>"
      ]
     },
     "metadata": {
      "needs_background": "light"
     },
     "output_type": "display_data"
    }
   ],
   "source": [
    "gender_client_df = clientdf.groupby(by = 'Gender')['ClientID'].count().reset_index(name='Frequency')\n",
    "# uncomment to see counts\n",
    "# display(gender_client_df.head())\n",
    "gender_client_df.plot(x='Gender', y='Frequency', kind='bar')"
   ]
  },
  {
   "cell_type": "markdown",
   "metadata": {},
   "source": [
    "# Account Table Questions"
   ]
  },
  {
   "cell_type": "markdown",
   "metadata": {},
   "source": [
    "### What percentage of all accounts are {open, closed}?"
   ]
  },
  {
   "cell_type": "code",
   "execution_count": 210,
   "metadata": {},
   "outputs": [
    {
     "data": {
      "text/html": [
       "<div>\n",
       "<style scoped>\n",
       "    .dataframe tbody tr th:only-of-type {\n",
       "        vertical-align: middle;\n",
       "    }\n",
       "\n",
       "    .dataframe tbody tr th {\n",
       "        vertical-align: top;\n",
       "    }\n",
       "\n",
       "    .dataframe thead th {\n",
       "        text-align: right;\n",
       "    }\n",
       "</style>\n",
       "<table border=\"1\" class=\"dataframe\">\n",
       "  <thead>\n",
       "    <tr style=\"text-align: right;\">\n",
       "      <th></th>\n",
       "      <th>AccountStatus</th>\n",
       "      <th>Frequency</th>\n",
       "      <th>Percent</th>\n",
       "    </tr>\n",
       "  </thead>\n",
       "  <tbody>\n",
       "    <tr>\n",
       "      <th>0</th>\n",
       "      <td>closed</td>\n",
       "      <td>440</td>\n",
       "      <td>10.630587</td>\n",
       "    </tr>\n",
       "    <tr>\n",
       "      <th>1</th>\n",
       "      <td>open</td>\n",
       "      <td>3476</td>\n",
       "      <td>83.981638</td>\n",
       "    </tr>\n",
       "    <tr>\n",
       "      <th>2</th>\n",
       "      <td>unknown</td>\n",
       "      <td>223</td>\n",
       "      <td>5.387775</td>\n",
       "    </tr>\n",
       "  </tbody>\n",
       "</table>\n",
       "</div>"
      ],
      "text/plain": [
       "  AccountStatus  Frequency    Percent\n",
       "0        closed        440  10.630587\n",
       "1          open       3476  83.981638\n",
       "2       unknown        223   5.387775"
      ]
     },
     "metadata": {},
     "output_type": "display_data"
    },
    {
     "name": "stdout",
     "output_type": "stream",
     "text": [
      "Accounts open or closed is 94.612%\n"
     ]
    }
   ],
   "source": [
    "account_status = acctdf.groupby(by='AccountStatus'\n",
    "                                )['AccountID'].count().reset_index(\n",
    "                                        name='Frequency')\n",
    "account_status['Percent'] = account_status['Frequency']/account_status[\n",
    "        'Frequency'].sum()*100.\n",
    "display(account_status)\n",
    "\n",
    "perc_open_closed = account_status[\n",
    "        account_status.AccountStatus.isin(('closed', 'open'))]['Percent'].sum()\n",
    "\n",
    "print('Accounts open or closed is ' + str(round(perc_open_closed, 3)) + '%')"
   ]
  },
  {
   "cell_type": "markdown",
   "metadata": {},
   "source": [
    "### What percentage of D accounts are closed?"
   ]
  },
  {
   "cell_type": "code",
   "execution_count": 211,
   "metadata": {},
   "outputs": [
    {
     "name": "stdout",
     "output_type": "stream",
     "text": [
      "Percent D Accounts Closed is 10.643%\n"
     ]
    }
   ],
   "source": [
    "total_d = acctdf[acctdf['AccountType'] == 'D']\n",
    "total_d_closed = total_d[total_d['AccountStatus'] == 'closed']['AccountID'].count()\n",
    "\n",
    "print('Percent D Accounts Closed is ' + str(round(total_d_closed/total_d['AccountID'] .count()*100, 3)) + '%')"
   ]
  },
  {
   "cell_type": "markdown",
   "metadata": {},
   "source": [
    "# Combined Client and Account table"
   ]
  },
  {
   "cell_type": "markdown",
   "metadata": {},
   "source": [
    "### Merge the Client and Account tables together"
   ]
  },
  {
   "cell_type": "code",
   "execution_count": 212,
   "metadata": {},
   "outputs": [
    {
     "data": {
      "text/html": [
       "<div>\n",
       "<style scoped>\n",
       "    .dataframe tbody tr th:only-of-type {\n",
       "        vertical-align: middle;\n",
       "    }\n",
       "\n",
       "    .dataframe tbody tr th {\n",
       "        vertical-align: top;\n",
       "    }\n",
       "\n",
       "    .dataframe thead th {\n",
       "        text-align: right;\n",
       "    }\n",
       "</style>\n",
       "<table border=\"1\" class=\"dataframe\">\n",
       "  <thead>\n",
       "    <tr style=\"text-align: right;\">\n",
       "      <th></th>\n",
       "      <th>ClientID</th>\n",
       "      <th>Gender</th>\n",
       "      <th>Name</th>\n",
       "      <th>Region</th>\n",
       "      <th>AccountID</th>\n",
       "      <th>AccountBalance</th>\n",
       "      <th>AccountStatus</th>\n",
       "      <th>AccountType</th>\n",
       "    </tr>\n",
       "  </thead>\n",
       "  <tbody>\n",
       "    <tr>\n",
       "      <th>0</th>\n",
       "      <td>1353110</td>\n",
       "      <td>M</td>\n",
       "      <td>Zeus Odetta</td>\n",
       "      <td>NE</td>\n",
       "      <td>44363.0</td>\n",
       "      <td>25127.38</td>\n",
       "      <td>open</td>\n",
       "      <td>D</td>\n",
       "    </tr>\n",
       "    <tr>\n",
       "      <th>1</th>\n",
       "      <td>1353110</td>\n",
       "      <td>M</td>\n",
       "      <td>Zeus Odetta</td>\n",
       "      <td>NE</td>\n",
       "      <td>36801.0</td>\n",
       "      <td>25662.58</td>\n",
       "      <td>open</td>\n",
       "      <td>D</td>\n",
       "    </tr>\n",
       "    <tr>\n",
       "      <th>2</th>\n",
       "      <td>1353110</td>\n",
       "      <td>M</td>\n",
       "      <td>Zeus Odetta</td>\n",
       "      <td>NE</td>\n",
       "      <td>38963.0</td>\n",
       "      <td>3149.79</td>\n",
       "      <td>open</td>\n",
       "      <td>D</td>\n",
       "    </tr>\n",
       "    <tr>\n",
       "      <th>3</th>\n",
       "      <td>1353110</td>\n",
       "      <td>M</td>\n",
       "      <td>Zeus Odetta</td>\n",
       "      <td>NE</td>\n",
       "      <td>53464.0</td>\n",
       "      <td>870489.00</td>\n",
       "      <td>open</td>\n",
       "      <td>L</td>\n",
       "    </tr>\n",
       "    <tr>\n",
       "      <th>4</th>\n",
       "      <td>1353110</td>\n",
       "      <td>M</td>\n",
       "      <td>Zeus Odetta</td>\n",
       "      <td>NE</td>\n",
       "      <td>30787.0</td>\n",
       "      <td>714025.00</td>\n",
       "      <td>open</td>\n",
       "      <td>L</td>\n",
       "    </tr>\n",
       "  </tbody>\n",
       "</table>\n",
       "</div>"
      ],
      "text/plain": [
       "   ClientID Gender         Name Region  AccountID  AccountBalance  \\\n",
       "0   1353110      M  Zeus Odetta     NE    44363.0        25127.38   \n",
       "1   1353110      M  Zeus Odetta     NE    36801.0        25662.58   \n",
       "2   1353110      M  Zeus Odetta     NE    38963.0         3149.79   \n",
       "3   1353110      M  Zeus Odetta     NE    53464.0       870489.00   \n",
       "4   1353110      M  Zeus Odetta     NE    30787.0       714025.00   \n",
       "\n",
       "  AccountStatus AccountType  \n",
       "0          open           D  \n",
       "1          open           D  \n",
       "2          open           D  \n",
       "3          open           L  \n",
       "4          open           L  "
      ]
     },
     "execution_count": 212,
     "metadata": {},
     "output_type": "execute_result"
    }
   ],
   "source": [
    "df = pd.merge(pd.merge(clientdf, bridgedf, how='outer', on='ClientID'\n",
    "                       ), acctdf, how='outer', on='AccountID')\n",
    "df.head()"
   ]
  },
  {
   "cell_type": "markdown",
   "metadata": {},
   "source": [
    "### Create a new field in the merged table called 'ClientType' that tells you the type of open accounts that each client has. For example, if a client currently has a D, L and W account, the ClientType would be 'DLW'. If a client only has an open D and L account then the ClientType would be 'DL'."
   ]
  },
  {
   "cell_type": "code",
   "execution_count": 213,
   "metadata": {},
   "outputs": [],
   "source": [
    "def process_data(dataframe, acct_sts_filter=''):\n",
    "    \"\"\"\n",
    "    Generates a column on each row that represents all of the client's account\n",
    "    types.  Applies a filter and creates a filter column if available\n",
    "\n",
    "    Arguments:\n",
    "    dataframe ~~ Pandas dataframe containing ClientID and AccountType to\n",
    "    aggregate\n",
    "    acct_sts_filter ~~ (optional) What status to filter the aggregate on\n",
    "\n",
    "    Returns:\n",
    "    dataframe ~~ Pandas dataframe that has the aggregated account types in\n",
    "    a UniqueAcctKey<Filter> column\n",
    "    \"\"\"\n",
    "    new_col = acct_sts_filter + 'UniqueAcctKey'\n",
    "\n",
    "    # Apply Status Filter\n",
    "    dataframe = dataframe[dataframe['AccountStatus'] == acct_sts_filter] if (\n",
    "            acct_sts_filter != '') else dataframe\n",
    "\n",
    "    # Creates a new dataframe with the client id and a list of the acct types\n",
    "    c_acct_types = dataframe.groupby('ClientID').apply(\n",
    "            lambda x: list(x.AccountType)).reset_index(name=new_col)\n",
    "    \n",
    "    # Creates a condensed sorted column of all account types \n",
    "    c_acct_types[new_col + 'Raw'] = c_acct_types[new_col].apply(\n",
    "            lambda a: ''.join([x for x in sorted(a) if str(x) != 'nan']))\n",
    "\n",
    "    # Condenses the account type list into a unique string. None=''\n",
    "    c_acct_types[new_col] = c_acct_types[new_col].apply(\n",
    "            lambda a: ''.join([x for x in sorted(set(a)) if str(x) != 'nan']))\n",
    "\n",
    "    # Merge aggregated dataframe back to mamain dataframe\n",
    "    dataframe = pd.merge(dataframe, c_acct_types, how='left', on='ClientID')\n",
    "\n",
    "    return dataframe"
   ]
  },
  {
   "cell_type": "code",
   "execution_count": 214,
   "metadata": {},
   "outputs": [
    {
     "data": {
      "text/html": [
       "<div>\n",
       "<style scoped>\n",
       "    .dataframe tbody tr th:only-of-type {\n",
       "        vertical-align: middle;\n",
       "    }\n",
       "\n",
       "    .dataframe tbody tr th {\n",
       "        vertical-align: top;\n",
       "    }\n",
       "\n",
       "    .dataframe thead th {\n",
       "        text-align: right;\n",
       "    }\n",
       "</style>\n",
       "<table border=\"1\" class=\"dataframe\">\n",
       "  <thead>\n",
       "    <tr style=\"text-align: right;\">\n",
       "      <th></th>\n",
       "      <th>ClientID</th>\n",
       "      <th>Gender</th>\n",
       "      <th>Name</th>\n",
       "      <th>Region</th>\n",
       "      <th>AccountID</th>\n",
       "      <th>AccountBalance</th>\n",
       "      <th>AccountStatus</th>\n",
       "      <th>AccountType</th>\n",
       "      <th>UniqueAcctKey</th>\n",
       "      <th>UniqueAcctKeyRaw</th>\n",
       "    </tr>\n",
       "  </thead>\n",
       "  <tbody>\n",
       "    <tr>\n",
       "      <th>0</th>\n",
       "      <td>1353110</td>\n",
       "      <td>M</td>\n",
       "      <td>Zeus Odetta</td>\n",
       "      <td>NE</td>\n",
       "      <td>44363.0</td>\n",
       "      <td>25127.38</td>\n",
       "      <td>open</td>\n",
       "      <td>D</td>\n",
       "      <td>DLW</td>\n",
       "      <td>DDDLLWWWWWWWW</td>\n",
       "    </tr>\n",
       "    <tr>\n",
       "      <th>1</th>\n",
       "      <td>1353110</td>\n",
       "      <td>M</td>\n",
       "      <td>Zeus Odetta</td>\n",
       "      <td>NE</td>\n",
       "      <td>36801.0</td>\n",
       "      <td>25662.58</td>\n",
       "      <td>open</td>\n",
       "      <td>D</td>\n",
       "      <td>DLW</td>\n",
       "      <td>DDDLLWWWWWWWW</td>\n",
       "    </tr>\n",
       "    <tr>\n",
       "      <th>2</th>\n",
       "      <td>1353110</td>\n",
       "      <td>M</td>\n",
       "      <td>Zeus Odetta</td>\n",
       "      <td>NE</td>\n",
       "      <td>38963.0</td>\n",
       "      <td>3149.79</td>\n",
       "      <td>open</td>\n",
       "      <td>D</td>\n",
       "      <td>DLW</td>\n",
       "      <td>DDDLLWWWWWWWW</td>\n",
       "    </tr>\n",
       "    <tr>\n",
       "      <th>3</th>\n",
       "      <td>1353110</td>\n",
       "      <td>M</td>\n",
       "      <td>Zeus Odetta</td>\n",
       "      <td>NE</td>\n",
       "      <td>53464.0</td>\n",
       "      <td>870489.00</td>\n",
       "      <td>open</td>\n",
       "      <td>L</td>\n",
       "      <td>DLW</td>\n",
       "      <td>DDDLLWWWWWWWW</td>\n",
       "    </tr>\n",
       "    <tr>\n",
       "      <th>4</th>\n",
       "      <td>1353110</td>\n",
       "      <td>M</td>\n",
       "      <td>Zeus Odetta</td>\n",
       "      <td>NE</td>\n",
       "      <td>30787.0</td>\n",
       "      <td>714025.00</td>\n",
       "      <td>open</td>\n",
       "      <td>L</td>\n",
       "      <td>DLW</td>\n",
       "      <td>DDDLLWWWWWWWW</td>\n",
       "    </tr>\n",
       "  </tbody>\n",
       "</table>\n",
       "</div>"
      ],
      "text/plain": [
       "   ClientID Gender         Name Region  AccountID  AccountBalance  \\\n",
       "0   1353110      M  Zeus Odetta     NE    44363.0        25127.38   \n",
       "1   1353110      M  Zeus Odetta     NE    36801.0        25662.58   \n",
       "2   1353110      M  Zeus Odetta     NE    38963.0         3149.79   \n",
       "3   1353110      M  Zeus Odetta     NE    53464.0       870489.00   \n",
       "4   1353110      M  Zeus Odetta     NE    30787.0       714025.00   \n",
       "\n",
       "  AccountStatus AccountType UniqueAcctKey UniqueAcctKeyRaw  \n",
       "0          open           D           DLW    DDDLLWWWWWWWW  \n",
       "1          open           D           DLW    DDDLLWWWWWWWW  \n",
       "2          open           D           DLW    DDDLLWWWWWWWW  \n",
       "3          open           L           DLW    DDDLLWWWWWWWW  \n",
       "4          open           L           DLW    DDDLLWWWWWWWW  "
      ]
     },
     "execution_count": 214,
     "metadata": {},
     "output_type": "execute_result"
    }
   ],
   "source": [
    "df = process_data(df)\n",
    "df.head()"
   ]
  },
  {
   "cell_type": "markdown",
   "metadata": {},
   "source": [
    "### How many different client types are there?"
   ]
  },
  {
   "cell_type": "code",
   "execution_count": 215,
   "metadata": {},
   "outputs": [
    {
     "name": "stdout",
     "output_type": "stream",
     "text": [
      "There are 8 acct types(includes none)\n"
     ]
    }
   ],
   "source": [
    "print('There are %d acct types(includes none)' % len(set(df['UniqueAcctKey'])))"
   ]
  },
  {
   "cell_type": "markdown",
   "metadata": {},
   "source": [
    "### How many clients have open accounts of all three product types (D, L, and W)?  With what probability do you think your answer is correct?  Please justify."
   ]
  },
  {
   "cell_type": "code",
   "execution_count": 216,
   "metadata": {},
   "outputs": [],
   "source": [
    "def get_client_count(df, filter_col, filter_val):\n",
    "    \"\"\"\n",
    "    Evaluates dataframe to return the number of unique clients by the filter \n",
    "    column and value\n",
    "\n",
    "    Arguments:\n",
    "    df ~~ Pandas dataframe containing ClientID and the column to filter\n",
    "    filter_col ~~ column used to filter\n",
    "    filter_val ~~ value filtered for\n",
    "\n",
    "    Returns:\n",
    "    unique_client ~~ integer representing occurance count\n",
    "    \"\"\"\n",
    "    df = df[df[filter_col] == filter_val]\n",
    "    print(set(df['ClientID']))\n",
    "    return len(set(df['ClientID']))"
   ]
  },
  {
   "cell_type": "code",
   "execution_count": 217,
   "metadata": {
    "scrolled": true
   },
   "outputs": [
    {
     "name": "stdout",
     "output_type": "stream",
     "text": [
      "{501253, 43030, 747554, 309799, 1665591, 678458, 396869, 319047, 251464, 646731, 643153, 378964, 1367636, 1080922, 698466, 1162345, 866416, 1242748, 22149, 579717, 756359, 99464, 1164935, 1463945, 1666190, 320655, 224911, 649876, 894118, 186571, 707788, 398549, 1354966, 958680, 520923, 335582, 761567, 120545, 818915, 924902, 139495, 798442, 1477874, 62708, 1823488, 1277202, 622355, 1482017, 1473313, 718113, 772903, 1067306, 1365291, 810797, 1248570, 244544, 1373024, 887657, 452458, 285558, 1277304, 844674, 1350532, 1218949, 1509767, 1661320, 1353110, 1413531, 1535387, 1664930, 1819047, 1599404, 249775, 284592, 1392059, 1170884, 1019337, 587732, 1678805, 835553, 386017, 7138, 30708, 780287}\n",
      "There are 84 clients with all 3 account types open currently\n"
     ]
    }
   ],
   "source": [
    "# group by client and openUniqueAcctKey\n",
    "df_open = process_data(df, 'open')\n",
    "\n",
    "# get clients with all 3 account types open: assuming df still only has open\n",
    "print('There are %d clients with all 3 account types open currently' %\n",
    "      get_client_count(df_open, 'openUniqueAcctKey', 'DLW'))"
   ]
  },
  {
   "cell_type": "markdown",
   "metadata": {},
   "source": [
    "<div style=\"color: green;\">\n",
    "I would say my confidence is > 90% that this is accurate assuming I understood the basis of the question.  I spot checked 10% (9 accts) that showed up in the set of open accts and spot checked an additional 9 accts in various other sets\n",
    "<div/>"
   ]
  },
  {
   "cell_type": "markdown",
   "metadata": {},
   "source": [
    "### What is the average open W account balance for clients that have at least two open L accounts?  With what probability do you think your answer is correct?  Please justify."
   ]
  },
  {
   "cell_type": "code",
   "execution_count": 218,
   "metadata": {},
   "outputs": [],
   "source": [
    "def mean_balance_by_acct_type_filter(df, filter_col, *filter_val):\n",
    "    \"\"\"\n",
    "    Iteratively filters a dataframe based on the column and values then\n",
    "    averages the AccountBalance\n",
    "\n",
    "    Arguments:\n",
    "    df ~~ Pandas dataframe containing AccountBalance and the column to filter\n",
    "    filter_col ~~ column used to filter\n",
    "    filter_val ~~ value filtered for\n",
    "\n",
    "    Returns:\n",
    "    mean_acct_balance ~~ float representing the mean account balance\n",
    "    \"\"\"\n",
    "    # Iteratively Filter\n",
    "    for f in filter_val:\n",
    "        df = df[df[filter_col].apply(lambda a: f in a)]\n",
    "\n",
    "    display(df[['AccountID', 'AccountBalance', filter_col]].head())\n",
    "\n",
    "    # Return Mean\n",
    "    return df['AccountBalance'].mean()"
   ]
  },
  {
   "cell_type": "code",
   "execution_count": 219,
   "metadata": {},
   "outputs": [
    {
     "data": {
      "text/html": [
       "<div>\n",
       "<style scoped>\n",
       "    .dataframe tbody tr th:only-of-type {\n",
       "        vertical-align: middle;\n",
       "    }\n",
       "\n",
       "    .dataframe tbody tr th {\n",
       "        vertical-align: top;\n",
       "    }\n",
       "\n",
       "    .dataframe thead th {\n",
       "        text-align: right;\n",
       "    }\n",
       "</style>\n",
       "<table border=\"1\" class=\"dataframe\">\n",
       "  <thead>\n",
       "    <tr style=\"text-align: right;\">\n",
       "      <th></th>\n",
       "      <th>AccountID</th>\n",
       "      <th>AccountBalance</th>\n",
       "      <th>openUniqueAcctKeyRaw</th>\n",
       "    </tr>\n",
       "  </thead>\n",
       "  <tbody>\n",
       "    <tr>\n",
       "      <th>0</th>\n",
       "      <td>44363.0</td>\n",
       "      <td>25127.38</td>\n",
       "      <td>DDDLLWWWWWWW</td>\n",
       "    </tr>\n",
       "    <tr>\n",
       "      <th>1</th>\n",
       "      <td>36801.0</td>\n",
       "      <td>25662.58</td>\n",
       "      <td>DDDLLWWWWWWW</td>\n",
       "    </tr>\n",
       "    <tr>\n",
       "      <th>2</th>\n",
       "      <td>38963.0</td>\n",
       "      <td>3149.79</td>\n",
       "      <td>DDDLLWWWWWWW</td>\n",
       "    </tr>\n",
       "    <tr>\n",
       "      <th>3</th>\n",
       "      <td>53464.0</td>\n",
       "      <td>870489.00</td>\n",
       "      <td>DDDLLWWWWWWW</td>\n",
       "    </tr>\n",
       "    <tr>\n",
       "      <th>4</th>\n",
       "      <td>30787.0</td>\n",
       "      <td>714025.00</td>\n",
       "      <td>DDDLLWWWWWWW</td>\n",
       "    </tr>\n",
       "  </tbody>\n",
       "</table>\n",
       "</div>"
      ],
      "text/plain": [
       "   AccountID  AccountBalance openUniqueAcctKeyRaw\n",
       "0    44363.0        25127.38         DDDLLWWWWWWW\n",
       "1    36801.0        25662.58         DDDLLWWWWWWW\n",
       "2    38963.0         3149.79         DDDLLWWWWWWW\n",
       "3    53464.0       870489.00         DDDLLWWWWWWW\n",
       "4    30787.0       714025.00         DDDLLWWWWWWW"
      ]
     },
     "metadata": {},
     "output_type": "display_data"
    },
    {
     "name": "stdout",
     "output_type": "stream",
     "text": [
      "The mean acct balance for clients with 2 LL and a W account open is $574148.86\n"
     ]
    }
   ],
   "source": [
    "print('The mean acct balance for clients with 2 LL and a W account open is $%.2f'\n",
    "      % round(mean_balance_by_acct_type_filter(df_open, 'openUniqueAcctKeyRaw',\n",
    "                                               'LL', 'W'),2))"
   ]
  },
  {
   "cell_type": "markdown",
   "metadata": {},
   "source": [
    "<div style=\"color: green;\">\n",
    "Assuming I understood the question >90%. I did a reverse search on an excel pivot of the data and arrived at the same answer.\n",
    "<div/>"
   ]
  },
  {
   "cell_type": "markdown",
   "metadata": {},
   "source": [
    "# Business Question\n",
    "\n",
    "- We hypothesize that clients with more product types also have more **deposit** dollars with us.  Please provide evidence either for or against this hypothesis.  \n",
    "- How confident are you in your answer, and why?"
   ]
  },
  {
   "cell_type": "code",
   "execution_count": 220,
   "metadata": {},
   "outputs": [],
   "source": [
    "def aggregate_data(df, acctType):\n",
    "    \"\"\"\n",
    "    Creates an aggregate column for the acct type specified \n",
    "\n",
    "    Arguments:\n",
    "    df ~~ Pandas dataframe containing the ClientID, UniqueAcctKey, and UniqueAcctKeyRaw \n",
    "\n",
    "    Returns:\n",
    "    df ~~ Pandas dataframe grouped by the ClientID and including the new account sum un sumDepositBalance\n",
    "    \"\"\"\n",
    "    # creates a column that's 0 when the account type isn't the input type\n",
    "    df['depositBalance'] =  (df.AccountType == acctType)* df.AccountBalance\n",
    "    # groups to sum the account balance\n",
    "    df = df.groupby(['ClientID','UniqueAcctKey','UniqueAcctKeyRaw'])[\n",
    "            'depositBalance'].sum().reset_index(name='sumDepositBalance')\n",
    "    # creates int columns for the \n",
    "    df['ctAcctType'] = df['UniqueAcctKeyRaw'].str.len()\n",
    "    df['ctUniqueAcctType'] = df['UniqueAcctKey'].str.len()\n",
    "    \n",
    "    display(df[['ClientID','sumDepositBalance','ctAcctType','ctUniqueAcctType']].head())\n",
    "    return df"
   ]
  },
  {
   "cell_type": "code",
   "execution_count": 221,
   "metadata": {},
   "outputs": [
    {
     "data": {
      "text/html": [
       "<div>\n",
       "<style scoped>\n",
       "    .dataframe tbody tr th:only-of-type {\n",
       "        vertical-align: middle;\n",
       "    }\n",
       "\n",
       "    .dataframe tbody tr th {\n",
       "        vertical-align: top;\n",
       "    }\n",
       "\n",
       "    .dataframe thead th {\n",
       "        text-align: right;\n",
       "    }\n",
       "</style>\n",
       "<table border=\"1\" class=\"dataframe\">\n",
       "  <thead>\n",
       "    <tr style=\"text-align: right;\">\n",
       "      <th></th>\n",
       "      <th>ClientID</th>\n",
       "      <th>sumDepositBalance</th>\n",
       "      <th>ctAcctType</th>\n",
       "      <th>ctUniqueAcctType</th>\n",
       "    </tr>\n",
       "  </thead>\n",
       "  <tbody>\n",
       "    <tr>\n",
       "      <th>0</th>\n",
       "      <td>784</td>\n",
       "      <td>0.00</td>\n",
       "      <td>8</td>\n",
       "      <td>2</td>\n",
       "    </tr>\n",
       "    <tr>\n",
       "      <th>1</th>\n",
       "      <td>1291</td>\n",
       "      <td>0.00</td>\n",
       "      <td>1</td>\n",
       "      <td>1</td>\n",
       "    </tr>\n",
       "    <tr>\n",
       "      <th>2</th>\n",
       "      <td>6076</td>\n",
       "      <td>0.00</td>\n",
       "      <td>0</td>\n",
       "      <td>0</td>\n",
       "    </tr>\n",
       "    <tr>\n",
       "      <th>3</th>\n",
       "      <td>7138</td>\n",
       "      <td>205444.07</td>\n",
       "      <td>17</td>\n",
       "      <td>3</td>\n",
       "    </tr>\n",
       "    <tr>\n",
       "      <th>4</th>\n",
       "      <td>7170</td>\n",
       "      <td>90090.23</td>\n",
       "      <td>4</td>\n",
       "      <td>1</td>\n",
       "    </tr>\n",
       "  </tbody>\n",
       "</table>\n",
       "</div>"
      ],
      "text/plain": [
       "   ClientID  sumDepositBalance  ctAcctType  ctUniqueAcctType\n",
       "0       784               0.00           8                 2\n",
       "1      1291               0.00           1                 1\n",
       "2      6076               0.00           0                 0\n",
       "3      7138          205444.07          17                 3\n",
       "4      7170           90090.23           4                 1"
      ]
     },
     "metadata": {},
     "output_type": "display_data"
    },
    {
     "data": {
      "text/html": [
       "<div>\n",
       "<style scoped>\n",
       "    .dataframe tbody tr th:only-of-type {\n",
       "        vertical-align: middle;\n",
       "    }\n",
       "\n",
       "    .dataframe tbody tr th {\n",
       "        vertical-align: top;\n",
       "    }\n",
       "\n",
       "    .dataframe thead th {\n",
       "        text-align: right;\n",
       "    }\n",
       "</style>\n",
       "<table border=\"1\" class=\"dataframe\">\n",
       "  <thead>\n",
       "    <tr style=\"text-align: right;\">\n",
       "      <th></th>\n",
       "      <th>ClientID</th>\n",
       "      <th>UniqueAcctKey</th>\n",
       "      <th>UniqueAcctKeyRaw</th>\n",
       "      <th>sumDepositBalance</th>\n",
       "      <th>ctAcctType</th>\n",
       "      <th>ctUniqueAcctType</th>\n",
       "    </tr>\n",
       "  </thead>\n",
       "  <tbody>\n",
       "    <tr>\n",
       "      <th>0</th>\n",
       "      <td>784</td>\n",
       "      <td>LW</td>\n",
       "      <td>LLLLWWWW</td>\n",
       "      <td>0.00</td>\n",
       "      <td>8</td>\n",
       "      <td>2</td>\n",
       "    </tr>\n",
       "    <tr>\n",
       "      <th>1</th>\n",
       "      <td>1291</td>\n",
       "      <td>W</td>\n",
       "      <td>W</td>\n",
       "      <td>0.00</td>\n",
       "      <td>1</td>\n",
       "      <td>1</td>\n",
       "    </tr>\n",
       "    <tr>\n",
       "      <th>2</th>\n",
       "      <td>6076</td>\n",
       "      <td></td>\n",
       "      <td></td>\n",
       "      <td>0.00</td>\n",
       "      <td>0</td>\n",
       "      <td>0</td>\n",
       "    </tr>\n",
       "    <tr>\n",
       "      <th>3</th>\n",
       "      <td>7138</td>\n",
       "      <td>DLW</td>\n",
       "      <td>DDDDDDDDDDLLLWWWW</td>\n",
       "      <td>205444.07</td>\n",
       "      <td>17</td>\n",
       "      <td>3</td>\n",
       "    </tr>\n",
       "    <tr>\n",
       "      <th>4</th>\n",
       "      <td>7170</td>\n",
       "      <td>D</td>\n",
       "      <td>DDDD</td>\n",
       "      <td>90090.23</td>\n",
       "      <td>4</td>\n",
       "      <td>1</td>\n",
       "    </tr>\n",
       "  </tbody>\n",
       "</table>\n",
       "</div>"
      ],
      "text/plain": [
       "   ClientID UniqueAcctKey   UniqueAcctKeyRaw  sumDepositBalance  ctAcctType  \\\n",
       "0       784            LW           LLLLWWWW               0.00           8   \n",
       "1      1291             W                  W               0.00           1   \n",
       "2      6076                                                0.00           0   \n",
       "3      7138           DLW  DDDDDDDDDDLLLWWWW          205444.07          17   \n",
       "4      7170             D               DDDD           90090.23           4   \n",
       "\n",
       "   ctUniqueAcctType  \n",
       "0                 2  \n",
       "1                 1  \n",
       "2                 0  \n",
       "3                 3  \n",
       "4                 1  "
      ]
     },
     "execution_count": 221,
     "metadata": {},
     "output_type": "execute_result"
    }
   ],
   "source": [
    "client_df = aggregate_data(df, 'D')\n",
    "client_df.head()"
   ]
  },
  {
   "cell_type": "code",
   "execution_count": 222,
   "metadata": {},
   "outputs": [
    {
     "data": {
      "text/plain": [
       "<matplotlib.axes._subplots.AxesSubplot at 0x121622cf8>"
      ]
     },
     "execution_count": 222,
     "metadata": {},
     "output_type": "execute_result"
    },
    {
     "data": {
      "image/png": "[encoded data removed]",
      "text/plain": [
       "<Figure size 432x288 with 1 Axes>"
      ]
     },
     "metadata": {
      "needs_background": "light"
     },
     "output_type": "display_data"
    }
   ],
   "source": [
    "x_index = 'ctAcctType'\n",
    "y_index = 'sumDepositBalance'\n",
    "client_df.plot.scatter(x_index,y_index)"
   ]
  },
  {
   "cell_type": "code",
   "execution_count": 223,
   "metadata": {},
   "outputs": [
    {
     "data": {
      "text/html": [
       "<table class=\"simpletable\">\n",
       "<caption>OLS Regression Results</caption>\n",
       "<tr>\n",
       "  <th>Dep. Variable:</th>    <td>sumDepositBalance</td> <th>  R-squared:         </th> <td>   0.700</td> \n",
       "</tr>\n",
       "<tr>\n",
       "  <th>Model:</th>                   <td>OLS</td>        <th>  Adj. R-squared:    </th> <td>   0.699</td> \n",
       "</tr>\n",
       "<tr>\n",
       "  <th>Method:</th>             <td>Least Squares</td>   <th>  F-statistic:       </th> <td>   2098.</td> \n",
       "</tr>\n",
       "<tr>\n",
       "  <th>Date:</th>             <td>Sun, 16 Dec 2018</td>  <th>  Prob (F-statistic):</th> <td>2.23e-237</td>\n",
       "</tr>\n",
       "<tr>\n",
       "  <th>Time:</th>                 <td>23:30:22</td>      <th>  Log-Likelihood:    </th> <td> -10887.</td> \n",
       "</tr>\n",
       "<tr>\n",
       "  <th>No. Observations:</th>      <td>   902</td>       <th>  AIC:               </th> <td>2.178e+04</td>\n",
       "</tr>\n",
       "<tr>\n",
       "  <th>Df Residuals:</th>          <td>   900</td>       <th>  BIC:               </th> <td>2.179e+04</td>\n",
       "</tr>\n",
       "<tr>\n",
       "  <th>Df Model:</th>              <td>     1</td>       <th>                     </th>     <td> </td>    \n",
       "</tr>\n",
       "<tr>\n",
       "  <th>Covariance Type:</th>      <td>nonrobust</td>     <th>                     </th>     <td> </td>    \n",
       "</tr>\n",
       "</table>\n",
       "<table class=\"simpletable\">\n",
       "<tr>\n",
       "       <td></td>         <th>coef</th>     <th>std err</th>      <th>t</th>      <th>P>|t|</th>  <th>[0.025</th>    <th>0.975]</th>  \n",
       "</tr>\n",
       "<tr>\n",
       "  <th>Intercept</th>  <td> 9150.0762</td> <td> 1924.313</td> <td>    4.755</td> <td> 0.000</td> <td> 5373.412</td> <td> 1.29e+04</td>\n",
       "</tr>\n",
       "<tr>\n",
       "  <th>ctAcctType</th> <td> 1.309e+04</td> <td>  285.774</td> <td>   45.802</td> <td> 0.000</td> <td> 1.25e+04</td> <td> 1.36e+04</td>\n",
       "</tr>\n",
       "</table>\n",
       "<table class=\"simpletable\">\n",
       "<tr>\n",
       "  <th>Omnibus:</th>       <td>37.648</td> <th>  Durbin-Watson:     </th> <td>   1.998</td>\n",
       "</tr>\n",
       "<tr>\n",
       "  <th>Prob(Omnibus):</th> <td> 0.000</td> <th>  Jarque-Bera (JB):  </th> <td>  61.086</td>\n",
       "</tr>\n",
       "<tr>\n",
       "  <th>Skew:</th>          <td> 0.335</td> <th>  Prob(JB):          </th> <td>5.44e-14</td>\n",
       "</tr>\n",
       "<tr>\n",
       "  <th>Kurtosis:</th>      <td> 4.084</td> <th>  Cond. No.          </th> <td>    9.30</td>\n",
       "</tr>\n",
       "</table><br/><br/>Warnings:<br/>[1] Standard Errors assume that the covariance matrix of the errors is correctly specified."
      ],
      "text/plain": [
       "<class 'statsmodels.iolib.summary.Summary'>\n",
       "\"\"\"\n",
       "                            OLS Regression Results                            \n",
       "==============================================================================\n",
       "Dep. Variable:      sumDepositBalance   R-squared:                       0.700\n",
       "Model:                            OLS   Adj. R-squared:                  0.699\n",
       "Method:                 Least Squares   F-statistic:                     2098.\n",
       "Date:                Sun, 16 Dec 2018   Prob (F-statistic):          2.23e-237\n",
       "Time:                        23:30:22   Log-Likelihood:                -10887.\n",
       "No. Observations:                 902   AIC:                         2.178e+04\n",
       "Df Residuals:                     900   BIC:                         2.179e+04\n",
       "Df Model:                           1                                         \n",
       "Covariance Type:            nonrobust                                         \n",
       "==============================================================================\n",
       "                 coef    std err          t      P>|t|      [0.025      0.975]\n",
       "------------------------------------------------------------------------------\n",
       "Intercept   9150.0762   1924.313      4.755      0.000    5373.412    1.29e+04\n",
       "ctAcctType  1.309e+04    285.774     45.802      0.000    1.25e+04    1.36e+04\n",
       "==============================================================================\n",
       "Omnibus:                       37.648   Durbin-Watson:                   1.998\n",
       "Prob(Omnibus):                  0.000   Jarque-Bera (JB):               61.086\n",
       "Skew:                           0.335   Prob(JB):                     5.44e-14\n",
       "Kurtosis:                       4.084   Cond. No.                         9.30\n",
       "==============================================================================\n",
       "\n",
       "Warnings:\n",
       "[1] Standard Errors assume that the covariance matrix of the errors is correctly specified.\n",
       "\"\"\""
      ]
     },
     "execution_count": 223,
     "metadata": {},
     "output_type": "execute_result"
    }
   ],
   "source": [
    "reg = smf.ols('sumDepositBalance ~ ctAcctType', data=client_df).fit()\n",
    "reg.summary()"
   ]
  },
  {
   "cell_type": "code",
   "execution_count": 224,
   "metadata": {},
   "outputs": [
    {
     "data": {
      "text/plain": [
       "<matplotlib.axes._subplots.AxesSubplot at 0x1a23bf4fd0>"
      ]
     },
     "execution_count": 224,
     "metadata": {},
     "output_type": "execute_result"
    },
    {
     "data": {
      "image/png": "[encoded data removed]",
      "text/plain": [
       "<Figure size 432x288 with 1 Axes>"
      ]
     },
     "metadata": {
      "needs_background": "light"
     },
     "output_type": "display_data"
    }
   ],
   "source": [
    "x_index = 'ctUniqueAcctType'\n",
    "y_index = 'sumDepositBalance'\n",
    "client_df.plot.scatter(x_index,y_index)"
   ]
  },
  {
   "cell_type": "code",
   "execution_count": 225,
   "metadata": {},
   "outputs": [
    {
     "data": {
      "text/html": [
       "<table class=\"simpletable\">\n",
       "<caption>OLS Regression Results</caption>\n",
       "<tr>\n",
       "  <th>Dep. Variable:</th>    <td>sumDepositBalance</td> <th>  R-squared:         </th> <td>   0.435</td> \n",
       "</tr>\n",
       "<tr>\n",
       "  <th>Model:</th>                   <td>OLS</td>        <th>  Adj. R-squared:    </th> <td>   0.434</td> \n",
       "</tr>\n",
       "<tr>\n",
       "  <th>Method:</th>             <td>Least Squares</td>   <th>  F-statistic:       </th> <td>   692.9</td> \n",
       "</tr>\n",
       "<tr>\n",
       "  <th>Date:</th>             <td>Sun, 16 Dec 2018</td>  <th>  Prob (F-statistic):</th> <td>1.06e-113</td>\n",
       "</tr>\n",
       "<tr>\n",
       "  <th>Time:</th>                 <td>23:30:22</td>      <th>  Log-Likelihood:    </th> <td> -11173.</td> \n",
       "</tr>\n",
       "<tr>\n",
       "  <th>No. Observations:</th>      <td>   902</td>       <th>  AIC:               </th> <td>2.235e+04</td>\n",
       "</tr>\n",
       "<tr>\n",
       "  <th>Df Residuals:</th>          <td>   900</td>       <th>  BIC:               </th> <td>2.236e+04</td>\n",
       "</tr>\n",
       "<tr>\n",
       "  <th>Df Model:</th>              <td>     1</td>       <th>                     </th>     <td> </td>    \n",
       "</tr>\n",
       "<tr>\n",
       "  <th>Covariance Type:</th>      <td>nonrobust</td>     <th>                     </th>     <td> </td>    \n",
       "</tr>\n",
       "</table>\n",
       "<table class=\"simpletable\">\n",
       "<tr>\n",
       "          <td></td>            <th>coef</th>     <th>std err</th>      <th>t</th>      <th>P>|t|</th>  <th>[0.025</th>    <th>0.975]</th>  \n",
       "</tr>\n",
       "<tr>\n",
       "  <th>Intercept</th>        <td>-1.926e+04</td> <td> 3876.541</td> <td>   -4.968</td> <td> 0.000</td> <td>-2.69e+04</td> <td>-1.16e+04</td>\n",
       "</tr>\n",
       "<tr>\n",
       "  <th>ctUniqueAcctType</th> <td> 6.404e+04</td> <td> 2432.932</td> <td>   26.324</td> <td> 0.000</td> <td> 5.93e+04</td> <td> 6.88e+04</td>\n",
       "</tr>\n",
       "</table>\n",
       "<table class=\"simpletable\">\n",
       "<tr>\n",
       "  <th>Omnibus:</th>       <td>73.461</td> <th>  Durbin-Watson:     </th> <td>   1.966</td>\n",
       "</tr>\n",
       "<tr>\n",
       "  <th>Prob(Omnibus):</th> <td> 0.000</td> <th>  Jarque-Bera (JB):  </th> <td>  98.377</td>\n",
       "</tr>\n",
       "<tr>\n",
       "  <th>Skew:</th>          <td> 0.662</td> <th>  Prob(JB):          </th> <td>4.34e-22</td>\n",
       "</tr>\n",
       "<tr>\n",
       "  <th>Kurtosis:</th>      <td> 3.930</td> <th>  Cond. No.          </th> <td>    4.22</td>\n",
       "</tr>\n",
       "</table><br/><br/>Warnings:<br/>[1] Standard Errors assume that the covariance matrix of the errors is correctly specified."
      ],
      "text/plain": [
       "<class 'statsmodels.iolib.summary.Summary'>\n",
       "\"\"\"\n",
       "                            OLS Regression Results                            \n",
       "==============================================================================\n",
       "Dep. Variable:      sumDepositBalance   R-squared:                       0.435\n",
       "Model:                            OLS   Adj. R-squared:                  0.434\n",
       "Method:                 Least Squares   F-statistic:                     692.9\n",
       "Date:                Sun, 16 Dec 2018   Prob (F-statistic):          1.06e-113\n",
       "Time:                        23:30:22   Log-Likelihood:                -11173.\n",
       "No. Observations:                 902   AIC:                         2.235e+04\n",
       "Df Residuals:                     900   BIC:                         2.236e+04\n",
       "Df Model:                           1                                         \n",
       "Covariance Type:            nonrobust                                         \n",
       "====================================================================================\n",
       "                       coef    std err          t      P>|t|      [0.025      0.975]\n",
       "------------------------------------------------------------------------------------\n",
       "Intercept        -1.926e+04   3876.541     -4.968      0.000   -2.69e+04   -1.16e+04\n",
       "ctUniqueAcctType  6.404e+04   2432.932     26.324      0.000    5.93e+04    6.88e+04\n",
       "==============================================================================\n",
       "Omnibus:                       73.461   Durbin-Watson:                   1.966\n",
       "Prob(Omnibus):                  0.000   Jarque-Bera (JB):               98.377\n",
       "Skew:                           0.662   Prob(JB):                     4.34e-22\n",
       "Kurtosis:                       3.930   Cond. No.                         4.22\n",
       "==============================================================================\n",
       "\n",
       "Warnings:\n",
       "[1] Standard Errors assume that the covariance matrix of the errors is correctly specified.\n",
       "\"\"\""
      ]
     },
     "execution_count": 225,
     "metadata": {},
     "output_type": "execute_result"
    }
   ],
   "source": [
    "reg = smf.ols('sumDepositBalance ~ ctUniqueAcctType', data=client_df).fit()\n",
    "reg.summary()"
   ]
  },
  {
   "cell_type": "markdown",
   "metadata": {},
   "source": [
    "<div style=\"color: green;\">\n",
    "The probability of observing the data, given that the null hypothesis \"the OLS model is a good fit\" for both total accounts and unique account types is true, is 2.23e-237 and 1.06e-113 resepectively. As this probability is below 0.05, the results are significant. The OLS model has a positive linear relationship helping support the hypothesis that clients with more product types also have more deposit dollars \n",
    "<div/>"
   ]
  }
 ],
 "metadata": {
  "kernelspec": {
   "display_name": "Python 3",
   "language": "python",
   "name": "python3"
  },
  "language_info": {
   "codemirror_mode": {
    "name": "ipython",
    "version": 3
   },
   "file_extension": ".py",
   "mimetype": "text/x-python",
   "name": "python",
   "nbconvert_exporter": "python",
   "pygments_lexer": "ipython3",
   "version": "3.7.0"
  }
 },
 "nbformat": 4,
 "nbformat_minor": 2
}
