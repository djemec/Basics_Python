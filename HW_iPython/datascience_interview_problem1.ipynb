{
 "cells": [
  {
   "cell_type": "markdown",
   "metadata": {},
   "source": [
    "## The purpose of this notebook is to test familiarity with NumPy and Matplotlib. The exercises below guide you through calculating properties of random integers drawn from a uniform distribution. \n",
    "\n",
    "## Please show your work for each exercise you attempt. \n",
    "\n",
    "## This is an open-book exam. Please consult official documentation through the web browser if needed."
   ]
  },
  {
   "cell_type": "markdown",
   "metadata": {},
   "source": [
    "### 1) Import Matplotlib and NumPy here."
   ]
  },
  {
   "cell_type": "code",
   "execution_count": 1,
   "metadata": {},
   "outputs": [],
   "source": [
    "# Imported pyplot to make futher problems simpler. To import the full library just remove .pyplot\n",
    "from matplotlib import pyplot as plt\n",
    "import numpy as np"
   ]
  },
  {
   "cell_type": "markdown",
   "metadata": {},
   "source": [
    "### 2) Calculate and store 1000 random integers between 0 and 100 inclusive."
   ]
  },
  {
   "cell_type": "code",
   "execution_count": 2,
   "metadata": {},
   "outputs": [
    {
     "data": {
      "text/plain": [
       "array([ 11,  96,  54,  46,  46,  88,  74,  76,  18,  13,  32,  80,  73,\n",
       "        77,  80,  65,   7,  39,  66,  45,  48,  96,   3,  96,   8,  40,\n",
       "        92,  50,  35,   8,  48,  32,  20,  50,  81,  74,  71,  19,  21,\n",
       "        51,   5,  44,  43,  45,  83,  28,  94,  88,  49,  45,  33,   3,\n",
       "        73,  50,  16,  18,  59,  64,  73,  17,  19,  20,   6,  43,  90,\n",
       "        31,  19,  59, 100,  79,   2,  94,  70,  99,  84,   2,  68,  27,\n",
       "         9,  43,  81,   3,  99,  48,   9,  55,   3,  91, 100,  38,  13,\n",
       "        83,  94,  60,   3,  79,  35,  97,   2,  54,  92,  50,  26,  21,\n",
       "        23,  33,  20,  48,  18,  12,  93,  26,  61,  23,  48,  23,  41,\n",
       "        59,  10,  72,  95,  56,  53,  11,   8,  35,  42,  59,  19,  81,\n",
       "        79,   7,  71,  40,  37,  57,  53,   7,  10,  77,  73,  80,  18,\n",
       "        84,  67,  68,  65,  33,  89,  62,  51,   3,  34,  80,  75,  42,\n",
       "        89,  92,  43,  51,  27,  14,  30,  64,  32,  56,  66,  80,  27,\n",
       "        21,  27,  20,  80,  58,  22,  65,  88,  34,  51,  27,  44,  36,\n",
       "        79,  15,  48,  13,  75,  66,  44,  58,  64,  16,  26,  51,  19,\n",
       "        77,  62,  91,  28,  57,  79,  88,  95,  17,   4,   2,  69,  82,\n",
       "        50,  67,  29,  73,  54,  42,  82,  27,  46,  75,  91,   5,  94,\n",
       "        42,   9,  64,  72,  86,  60,  97,  93,  50,  95,  65,  72,  38,\n",
       "         7,  81,  17,  60,  92,   5,  92,  75,  98,  16,  54,  21,  99,\n",
       "        93,  38,  92,  61,  59,  11,  11,  33,  59,  82,  49,  89,  39,\n",
       "        68,  33,  65,   6,  85,  88,  16,  87,  77,   1,  10,  35,  85,\n",
       "        90,  87,  91,  78,  60,  25,  74,  63,  22,  23,  58,  91,  36,\n",
       "        28,   4,   4,  56,  11,  79,  88,   9,  22,  42,  23,  13,  34,\n",
       "         8,  96,  99,  35,  28,  79,  47,  87,  64,   9,  41,  91,  32,\n",
       "        30,  57,  95,  55,  96,  36,   1,  34,  22,  43,  49,  90,   2,\n",
       "        85,  60,  50,  57,  35,  86,  83,  31,  19,  69,  38,  71,  91,\n",
       "        84,   9,  78,  36,  82,  70,   5,  29,  32,  89,  72,  21,  16,\n",
       "        18,  61,  51,  60,  70,  54,  76,  59,  23,  72,  78,  77,   1,\n",
       "        27,  19,  28,   9,  34,  58,  30,  42,   3,  16,  14,  63, 100,\n",
       "        23,  51,  83,  75,  96,   3,  31,  63,  76,  73,  58,  10,  51,\n",
       "        23,   9,  28,  76,  74,  18,  85,  57,  46,  79,  37,  50,  61,\n",
       "        30,  61,  92,   4,  90,  60,  86,  58,  89,  51,  68,  88,  40,\n",
       "         9,  52,  23,  22,  22,  85,  72,  42,  36,  10,  69,  79,  28,\n",
       "        61,  41,  95, 100,  22,  32,  92,  54,  24,  49,  41,   2,  11,\n",
       "        74,  16,   2,  10,  59,  70,  23,  31,  46,  12,  40,  61,  85,\n",
       "        95,  50,  37,  68,  80,  23,  41,   7,  65,  76,  25,  70,   3,\n",
       "        19,  85,  61,  59,  39,  53,  22,  86,  65,  61,  77,   2,  97,\n",
       "        18,  12,  89,  34,  76,  22,  99,  47,  85,  48,  98,  30,  56,\n",
       "        94,  58,  50,  68,  25,  93,  25,  20,  97,  31,  68,  77,  46,\n",
       "        57,  69,  71,  37,   3,  59,  14,  88,  57,  69,  98,  62,  50,\n",
       "        94,  95,  79,  35,   1,  25,  69,  82,  25,  40,  11,  68,  95,\n",
       "        62,  37,  91,  84,  53,  31,  78,  17,  28,  42,  64,  98,  64,\n",
       "        51,  52,  45,  92,   6,  32,  10,  42,  42,  79,  63,  70,  25,\n",
       "        19,  88,  48,  59,  82,   2,  86,  37,  58,  78,  78,  54,  64,\n",
       "        81,  98,  42,  73,  20,  46,  79,  28,  20,  60,  77,  68,  50,\n",
       "        39, 100,  93,  30,  58,  47,   7,  19,  44,  19,  66,  62,  30,\n",
       "        98,  30,  93,  49,  84,  95,  44,  96,  56,   4,  56,  53,  81,\n",
       "        82,  51,   6,  49,  29,  89,  68,  61,  86,  56,  68,  49,  82,\n",
       "        90,  91,  37,  37,  95,  34,  47,  37,  19,  59,  12,  31,  20,\n",
       "         1,  49,  71,  83,  27,  57,  46,  46,  94,  55,  96,  30,  76,\n",
       "        77,   2,  82,  78,  35,   3,  94,  13,   2,   7,   3,  15,  60,\n",
       "        89,  27,  70,  85,  10,  97,  21,  87,  84,   7,  62,  30,   1,\n",
       "        72,  82,  67,  64,  65,  80,  41,  78,  24,  74,  75,  97,  56,\n",
       "       100,  23, 100,  64,  41,  24,  38,  44,  43,  25,  70,  52,  78,\n",
       "        44,  94,  95,  22,  86,  97,  39,  65,  75,  86,  54,  65,  36,\n",
       "        60,  51,  45,  35,  76,  64,  51,  51,  78,  85,  17,  48,  15,\n",
       "        18,  37,  18,  53,  51,  75,  81,  90,  67,  88,  49,  79,  71,\n",
       "        25,  41,  29,  45,  25,   8,  90,  87,  14,  21,  59,  43,  59,\n",
       "        38,   6,   3,  49,  92,   6,  19,  66,  66,  30,  52,  35,  49,\n",
       "        46,  23,  71,  80,  79,  25,  42,  49,  46,  83,  41, 100,  60,\n",
       "        15,  75,  39,  19,  41,  64,  99,   6,  51,  83,  70,  82,  61,\n",
       "         6,  20,  79,  34,  30,   1,  48,  60,  44,  68,  19,  49,  41,\n",
       "        71,  62,  63,  89,  59,  27,  60,  84,  62,  59,  70,  91,  11,\n",
       "        61,  65,  21,  88, 100,  12,  41,  25,  65,  65,  63,  58,  41,\n",
       "        70,  51,  57,  91,  59,  79,  28,  45,  45,  71,  19,  76,  60,\n",
       "        34,  82,   6,  97,  30,  95,  50,   4,  40,  36,  74,  28,  11,\n",
       "        27,  52,  48,  42,  23,  36,   5,  31,  24,  99,  92,  24,  30,\n",
       "        80,  70,  44,  99,  67, 100,  84,  85,  53,  41,  20,  92,  13,\n",
       "        69,  22,  68,  88,  10,  51,  44,  57,  56,  54,  83,  84,  27,\n",
       "        68,  42,  71,  54,  89,  46,  27,  15,  45,  22,  19,  22,  44,\n",
       "        70,  70,  96,   9,  99,  87,  43,  44,  80,  50,  73,   7,  84,\n",
       "         9,  38,  31,  47,  78,  14,  17,  88,  16,  99,  17,  25,  74,\n",
       "        79,  26,   8,  40,  84,  97,  94,  59,  81,  35,  96,   2,  73,\n",
       "        55,  70,  72,  47,  60,  51,  68,  41,  22,  30,  17,  56,  33,\n",
       "        44,  48,   2,  74,  32,  81,  48,  90,  58,  75,  14,   2,  52,\n",
       "        58,  19,  97,  41,  67,  56,  58,  43,  34,  43,  51,  56,   5,\n",
       "        63,  97,  46,  32,  21,  29, 100,  53,  83,  37,  85,  55])"
      ]
     },
     "execution_count": 2,
     "metadata": {},
     "output_type": "execute_result"
    }
   ],
   "source": [
    "rand_list = np.random.randint(low=1, high=101, size=1000)\n",
    "# visualize list for spot checking\n",
    "rand_list"
   ]
  },
  {
   "cell_type": "markdown",
   "metadata": {},
   "source": [
    "### 3) Show kind of data structure are the random integers stored in."
   ]
  },
  {
   "cell_type": "code",
   "execution_count": 3,
   "metadata": {},
   "outputs": [
    {
     "data": {
      "text/plain": [
       "numpy.ndarray"
      ]
     },
     "execution_count": 3,
     "metadata": {},
     "output_type": "execute_result"
    }
   ],
   "source": [
    "type(rand_list)"
   ]
  },
  {
   "cell_type": "markdown",
   "metadata": {},
   "source": [
    "### 4) Verify the minimum and maximum values of the random integers. Print these values to standard out as a tuple."
   ]
  },
  {
   "cell_type": "code",
   "execution_count": 4,
   "metadata": {},
   "outputs": [
    {
     "data": {
      "text/plain": [
       "(1, 100)"
      ]
     },
     "execution_count": 4,
     "metadata": {},
     "output_type": "execute_result"
    }
   ],
   "source": [
    "rand_max_min = (min(rand_list), max(rand_list))\n",
    "rand_max_min"
   ]
  },
  {
   "cell_type": "markdown",
   "metadata": {},
   "source": [
    "### 5) Sort the random integers in reverse order. Print the result to standard out."
   ]
  },
  {
   "cell_type": "code",
   "execution_count": 5,
   "metadata": {},
   "outputs": [
    {
     "data": {
      "text/plain": [
       "array([ 55,  85,  37,  83,  53, 100,  29,  21,  32,  46,  97,  63,   5,\n",
       "        56,  51,  43,  34,  43,  58,  56,  67,  41,  97,  19,  58,  52,\n",
       "         2,  14,  75,  58,  90,  48,  81,  32,  74,   2,  48,  44,  33,\n",
       "        56,  17,  30,  22,  41,  68,  51,  60,  47,  72,  70,  55,  73,\n",
       "         2,  96,  35,  81,  59,  94,  97,  84,  40,   8,  26,  79,  74,\n",
       "        25,  17,  99,  16,  88,  17,  14,  78,  47,  31,  38,   9,  84,\n",
       "         7,  73,  50,  80,  44,  43,  87,  99,   9,  96,  70,  70,  44,\n",
       "        22,  19,  22,  45,  15,  27,  46,  89,  54,  71,  42,  68,  27,\n",
       "        84,  83,  54,  56,  57,  44,  51,  10,  88,  68,  22,  69,  13,\n",
       "        92,  20,  41,  53,  85,  84, 100,  67,  99,  44,  70,  80,  30,\n",
       "        24,  92,  99,  24,  31,   5,  36,  23,  42,  48,  52,  27,  11,\n",
       "        28,  74,  36,  40,   4,  50,  95,  30,  97,   6,  82,  34,  60,\n",
       "        76,  19,  71,  45,  45,  28,  79,  59,  91,  57,  51,  70,  41,\n",
       "        58,  63,  65,  65,  25,  41,  12, 100,  88,  21,  65,  61,  11,\n",
       "        91,  70,  59,  62,  84,  60,  27,  59,  89,  63,  62,  71,  41,\n",
       "        49,  19,  68,  44,  60,  48,   1,  30,  34,  79,  20,   6,  61,\n",
       "        82,  70,  83,  51,   6,  99,  64,  41,  19,  39,  75,  15,  60,\n",
       "       100,  41,  83,  46,  49,  42,  25,  79,  80,  71,  23,  46,  49,\n",
       "        35,  52,  30,  66,  66,  19,   6,  92,  49,   3,   6,  38,  59,\n",
       "        43,  59,  21,  14,  87,  90,   8,  25,  45,  29,  41,  25,  71,\n",
       "        79,  49,  88,  67,  90,  81,  75,  51,  53,  18,  37,  18,  15,\n",
       "        48,  17,  85,  78,  51,  51,  64,  76,  35,  45,  51,  60,  36,\n",
       "        65,  54,  86,  75,  65,  39,  97,  86,  22,  95,  94,  44,  78,\n",
       "        52,  70,  25,  43,  44,  38,  24,  41,  64, 100,  23, 100,  56,\n",
       "        97,  75,  74,  24,  78,  41,  80,  65,  64,  67,  82,  72,   1,\n",
       "        30,  62,   7,  84,  87,  21,  97,  10,  85,  70,  27,  89,  60,\n",
       "        15,   3,   7,   2,  13,  94,   3,  35,  78,  82,   2,  77,  76,\n",
       "        30,  96,  55,  94,  46,  46,  57,  27,  83,  71,  49,   1,  20,\n",
       "        31,  12,  59,  19,  37,  47,  34,  95,  37,  37,  91,  90,  82,\n",
       "        49,  68,  56,  86,  61,  68,  89,  29,  49,   6,  51,  82,  81,\n",
       "        53,  56,   4,  56,  96,  44,  95,  84,  49,  93,  30,  98,  30,\n",
       "        62,  66,  19,  44,  19,   7,  47,  58,  30,  93, 100,  39,  50,\n",
       "        68,  77,  60,  20,  28,  79,  46,  20,  73,  42,  98,  81,  64,\n",
       "        54,  78,  78,  58,  37,  86,   2,  82,  59,  48,  88,  19,  25,\n",
       "        70,  63,  79,  42,  42,  10,  32,   6,  92,  45,  52,  51,  64,\n",
       "        98,  64,  42,  28,  17,  78,  31,  53,  84,  91,  37,  62,  95,\n",
       "        68,  11,  40,  25,  82,  69,  25,   1,  35,  79,  95,  94,  50,\n",
       "        62,  98,  69,  57,  88,  14,  59,   3,  37,  71,  69,  57,  46,\n",
       "        77,  68,  31,  97,  20,  25,  93,  25,  68,  50,  58,  94,  56,\n",
       "        30,  98,  48,  85,  47,  99,  22,  76,  34,  89,  12,  18,  97,\n",
       "         2,  77,  61,  65,  86,  22,  53,  39,  59,  61,  85,  19,   3,\n",
       "        70,  25,  76,  65,   7,  41,  23,  80,  68,  37,  50,  95,  85,\n",
       "        61,  40,  12,  46,  31,  23,  70,  59,  10,   2,  16,  74,  11,\n",
       "         2,  41,  49,  24,  54,  92,  32,  22, 100,  95,  41,  61,  28,\n",
       "        79,  69,  10,  36,  42,  72,  85,  22,  22,  23,  52,   9,  40,\n",
       "        88,  68,  51,  89,  58,  86,  60,  90,   4,  92,  61,  30,  61,\n",
       "        50,  37,  79,  46,  57,  85,  18,  74,  76,  28,   9,  23,  51,\n",
       "        10,  58,  73,  76,  63,  31,   3,  96,  75,  83,  51,  23, 100,\n",
       "        63,  14,  16,   3,  42,  30,  58,  34,   9,  28,  19,  27,   1,\n",
       "        77,  78,  72,  23,  59,  76,  54,  70,  60,  51,  61,  18,  16,\n",
       "        21,  72,  89,  32,  29,   5,  70,  82,  36,  78,   9,  84,  91,\n",
       "        71,  38,  69,  19,  31,  83,  86,  35,  57,  50,  60,  85,   2,\n",
       "        90,  49,  43,  22,  34,   1,  36,  96,  55,  95,  57,  30,  32,\n",
       "        91,  41,   9,  64,  87,  47,  79,  28,  35,  99,  96,   8,  34,\n",
       "        13,  23,  42,  22,   9,  88,  79,  11,  56,   4,   4,  28,  36,\n",
       "        91,  58,  23,  22,  63,  74,  25,  60,  78,  91,  87,  90,  85,\n",
       "        35,  10,   1,  77,  87,  16,  88,  85,   6,  65,  33,  68,  39,\n",
       "        89,  49,  82,  59,  33,  11,  11,  59,  61,  92,  38,  93,  99,\n",
       "        21,  54,  16,  98,  75,  92,   5,  92,  60,  17,  81,   7,  38,\n",
       "        72,  65,  95,  50,  93,  97,  60,  86,  72,  64,   9,  42,  94,\n",
       "         5,  91,  75,  46,  27,  82,  42,  54,  73,  29,  67,  50,  82,\n",
       "        69,   2,   4,  17,  95,  88,  79,  57,  28,  91,  62,  77,  19,\n",
       "        51,  26,  16,  64,  58,  44,  66,  75,  13,  48,  15,  79,  36,\n",
       "        44,  27,  51,  34,  88,  65,  22,  58,  80,  20,  27,  21,  27,\n",
       "        80,  66,  56,  32,  64,  30,  14,  27,  51,  43,  92,  89,  42,\n",
       "        75,  80,  34,   3,  51,  62,  89,  33,  65,  68,  67,  84,  18,\n",
       "        80,  73,  77,  10,   7,  53,  57,  37,  40,  71,   7,  79,  81,\n",
       "        19,  59,  42,  35,   8,  11,  53,  56,  95,  72,  10,  59,  41,\n",
       "        23,  48,  23,  61,  26,  93,  12,  18,  48,  20,  33,  23,  21,\n",
       "        26,  50,  92,  54,   2,  97,  35,  79,   3,  60,  94,  83,  13,\n",
       "        38, 100,  91,   3,  55,   9,  48,  99,   3,  81,  43,   9,  27,\n",
       "        68,   2,  84,  99,  70,  94,   2,  79, 100,  59,  19,  31,  90,\n",
       "        43,   6,  20,  19,  17,  73,  64,  59,  18,  16,  50,  73,   3,\n",
       "        33,  45,  49,  88,  94,  28,  83,  45,  43,  44,   5,  51,  21,\n",
       "        19,  71,  74,  81,  50,  20,  32,  48,   8,  35,  50,  92,  40,\n",
       "         8,  96,   3,  96,  48,  45,  66,  39,   7,  65,  80,  77,  73,\n",
       "        80,  32,  13,  18,  76,  74,  88,  46,  46,  54,  96,  11])"
      ]
     },
     "execution_count": 5,
     "metadata": {},
     "output_type": "execute_result"
    }
   ],
   "source": [
    "# assuming reversing the lit, not high to low.  high to low would be done via rand_list[::-1].sort()\n",
    "rand_list = np.flip(rand_list)\n",
    "rand_list"
   ]
  },
  {
   "cell_type": "markdown",
   "metadata": {},
   "source": [
    "### 6a) How many unique integers are represented in the random numbers?  "
   ]
  },
  {
   "cell_type": "code",
   "execution_count": 6,
   "metadata": {},
   "outputs": [
    {
     "data": {
      "text/plain": [
       "100"
      ]
     },
     "execution_count": 6,
     "metadata": {},
     "output_type": "execute_result"
    }
   ],
   "source": [
    "len(set(rand_list))"
   ]
  },
  {
   "cell_type": "markdown",
   "metadata": {},
   "source": [
    "### 6b) Is this what you expect? Type your explanation as a comment."
   ]
  },
  {
   "cell_type": "code",
   "execution_count": 7,
   "metadata": {},
   "outputs": [],
   "source": [
    "# 6b) This is expected as a random generation of 1-100 would be expected to have an equal chance of \n",
    "# each number appearing and at a set size of 10x possibilities the expectation would be each value appears"
   ]
  },
  {
   "cell_type": "markdown",
   "metadata": {},
   "source": [
    "### 7a) How many 50s are in your distribution of random numbers?  "
   ]
  },
  {
   "cell_type": "code",
   "execution_count": 8,
   "metadata": {},
   "outputs": [
    {
     "data": {
      "text/plain": [
       "14"
      ]
     },
     "execution_count": 8,
     "metadata": {},
     "output_type": "execute_result"
    }
   ],
   "source": [
    "# Assuming here the ask is the number 50 and not value between 50-59\n",
    "np.count_nonzero(rand_list == 50) "
   ]
  },
  {
   "cell_type": "markdown",
   "metadata": {},
   "source": [
    "### 7b) How many 50s would you expect to find?  "
   ]
  },
  {
   "cell_type": "markdown",
   "metadata": {},
   "source": [
    "<div style=\"color: green;\">\n",
    "\n",
    "##### 7b) I'd expect around 10 50s\n",
    "<div>"
   ]
  },
  {
   "cell_type": "markdown",
   "metadata": {},
   "source": [
    "### 7c) Sketch out the key steps for testing the statistical signifance of your result."
   ]
  },
  {
   "cell_type": "markdown",
   "metadata": {},
   "source": [
    "<div style=\"color: green;\">\n",
    "\n",
    "##### 7c) I'd convert the array into an array of occurance rates for each value.  From there i'd then treat it as a sample where the true mean is 1% and then perform a one-sample t-test to determine how close the average rate of occurance is to the expected 1% \n",
    "<div>"
   ]
  },
  {
   "cell_type": "markdown",
   "metadata": {},
   "source": [
    "### 8) Find and plot the probability mass function (PMF) of the integers."
   ]
  },
  {
   "cell_type": "code",
   "execution_count": 9,
   "metadata": {},
   "outputs": [
    {
     "data": {
      "image/png": "[encoded data removed]",
      "text/plain": [
       "<Figure size 432x288 with 1 Axes>"
      ]
     },
     "metadata": {
      "needs_background": "light"
     },
     "output_type": "display_data"
    }
   ],
   "source": [
    "# Generates & sorts list of random ints and occurence rate\n",
    "val, cnt = np.unique(rand_list, return_counts=True)\n",
    "# Calculates PMF\n",
    "pmf = cnt / len(rand_list)\n",
    "\n",
    "# Uncomment to see pmf core data\n",
    "# Print(np.column_stack((val, pmf)))\n",
    "\n",
    "# 1 plot pane\n",
    "fig, ax = plt.subplots(1, 1)\n",
    "\n",
    "# Plots x axis: random int, y axis: probability, unconnected, weight, blue\n",
    "ax.plot(val, pmf, 'bo', ms=2, mec='b')\n",
    "\n",
    "# Adds vertical lines to each datapoint\n",
    "ax.vlines(val, 0, pmf, colors='g', linestyles='dashed', lw=2)\n",
    "\n",
    "# Labels chart\n",
    "plt.title('Random Integer PMF')\n",
    "plt.ylabel('Probability')\n",
    "plt.xlabel('int generated')\n",
    "\n",
    "# Plots\n",
    "plt.show()\n"
   ]
  },
  {
   "cell_type": "markdown",
   "metadata": {},
   "source": [
    "### 9a) Convert the PMF to a cumulative distribution function (CDF)."
   ]
  },
  {
   "cell_type": "code",
   "execution_count": 10,
   "metadata": {},
   "outputs": [
    {
     "data": {
      "text/plain": [
       "[<matplotlib.lines.Line2D at 0x114dfeb38>]"
      ]
     },
     "execution_count": 10,
     "metadata": {},
     "output_type": "execute_result"
    },
    {
     "data": {
      "image/png": "[encoded data removed]",
      "text/plain": [
       "<Figure size 432x288 with 1 Axes>"
      ]
     },
     "metadata": {
      "needs_background": "light"
     },
     "output_type": "display_data"
    }
   ],
   "source": [
    "# Converts PMF to CDF\n",
    "cdf = np.cumsum(pmf)\n",
    "\n",
    "# Plot titles\n",
    "plt.title('CDF')\n",
    "plt.ylabel('Probability')\n",
    "plt.xlabel('int generated')\n",
    "\n",
    "# Plots values\n",
    "plt.plot(val, cdf)"
   ]
  },
  {
   "cell_type": "markdown",
   "metadata": {},
   "source": [
    "### 9b) What is the expected shape of this plot? How could we modify the above directions to achieve that result? Type your answer as a comment."
   ]
  },
  {
   "cell_type": "code",
   "execution_count": 11,
   "metadata": {},
   "outputs": [],
   "source": [
    "# 9B CDFs usually have a closer to S shape but for this data set I'd expect a very straight line.  To improve\n",
    "# the cdf I'd increase the sample size"
   ]
  },
  {
   "cell_type": "markdown",
   "metadata": {},
   "source": [
    "### 9c) Type as a comment the meaning of the function evaluated at x=75."
   ]
  },
  {
   "cell_type": "code",
   "execution_count": 12,
   "metadata": {},
   "outputs": [],
   "source": [
    "# 9C x= 75 sets the variable x to the integer 75"
   ]
  },
  {
   "cell_type": "markdown",
   "metadata": {},
   "source": [
    "### 9d) Show on this plot as a red line the mean of the random integers."
   ]
  },
  {
   "cell_type": "code",
   "execution_count": 13,
   "metadata": {},
   "outputs": [
    {
     "data": {
      "image/png": "[encoded data removed]",
      "text/plain": [
       "<Figure size 432x288 with 1 Axes>"
      ]
     },
     "metadata": {
      "needs_background": "light"
     },
     "output_type": "display_data"
    }
   ],
   "source": [
    "# Generates mean\n",
    "rand_list_mean = rand_list.mean()\n",
    "\n",
    "# Generates chart pane\n",
    "fig_cdf, ax2_cdf = plt.subplots(1, 1)\n",
    "\n",
    "# Plots CDF\n",
    "ax2_cdf.plot(val, cdf)\n",
    "\n",
    "# Adds verticle line with at x=mean, y = 0, height of 1, color of red, style of solid, and weight of 1\n",
    "ax2_cdf.vlines(rand_list_mean, 0, 1, colors='r', linestyles='-', lw=1, label=\"mean: \" + str(rand_list_mean))\n",
    "\n",
    "# Plot titles\n",
    "plt.title('CDF Updated')\n",
    "plt.ylabel('Probability')\n",
    "plt.xlabel('int generated')\n",
    "plt.legend()\n",
    "\n",
    "#Plots\n",
    "plt.show()\n"
   ]
  }
 ],
 "metadata": {
  "kernelspec": {
   "display_name": "Python 3",
   "language": "python",
   "name": "python3"
  },
  "language_info": {
   "codemirror_mode": {
    "name": "ipython",
    "version": 3
   },
   "file_extension": ".py",
   "mimetype": "text/x-python",
   "name": "python",
   "nbconvert_exporter": "python",
   "pygments_lexer": "ipython3",
   "version": "3.7.0"
  }
 },
 "nbformat": 4,
 "nbformat_minor": 2
}
