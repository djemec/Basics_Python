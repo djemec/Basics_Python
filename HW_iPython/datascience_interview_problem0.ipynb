{
 "cells": [
  {
   "cell_type": "markdown",
   "metadata": {},
   "source": [
    "# SQL - Homework\n",
    "\n",
    "## Please find the Entity Relationship Diagram of a simple database with two entities below: CLIENT and TRANSACTION\n",
    "\n",
    "<img src=\"files/img/ERD_SQL_Homework.png\">\n",
    "\n",
    "#### Sample data of the CLIENT table:\n",
    "| CLIENT_ID\t| FIRST_NAME  | LAST_NAME |\tCLIENT_SINCE |\tCLIENT_EMAIL |\n",
    "| --- | --- | --- | --- | --- |\n",
    "|1|Alison|Blake|2017-01-01 00:00:00.000|Alison.Blake@gmail.com|\n",
    "|2|Amanda|Bond|2017-05-01 00:00:00.000|Amanda.Bond@gmail.com|\n",
    "|3|Amelia|Bower|2016-05-01 00:00:00.000|ABoweratgmail.com|\n",
    "|4|Megan|Brown|2016-10-05 00:00:00.000|NULL|\n",
    "|5|Melanie|Buckland|2018-01-05 00:00:00.000|Melanie.Buckland@gmail.com|\n",
    "\n",
    "#### Sample data of the TRANSACTION table:\n",
    "| TRAN_ID\t| TRAN_DESCRIPTION  | DATE |\tTRAN_AMOUNT |\tCLIENT_ID |\n",
    "| --- | --- | --- | --- | --- |\n",
    "|1|ACH DEBIT|2018-01-01 00:00:00.000|-215.83|1|\n",
    "|2|DEBIT CARD|2018-01-01 00:00:00.000|-209.16|1|\n",
    "|3|ACH DEBIT|2018-01-02 00:00:00.000|-75|1|\n",
    "|4|DEBIT CARD|2018-01-02 00:00:00.000|-63.92|1|\n",
    "|5|INTERNET TRANSFER|2018-01-03 00:00:00.000|-25|1|\n",
    "|6|NULL|2018-01-03 00:00:00.000|-25|1|\n",
    "|7|DEBIT CARD LAS VEGAS|2018-01-03 00:00:00.000|-25|1|\n",
    "|8|ACH DEBIT|2018-01-01 00:00:00.000|-9.99|2|\n",
    "|9|DEBIT CARD|2018-01-01 00:00:00.000|-411.34|2|\n",
    "|10|ACH DEBIT|2018-01-02 00:00:00.000|-65.99|2|\n",
    "\n",
    "## Please write your answers to the following questions in a markdown cell:\n",
    "\n",
    "- Note:\n",
    "    - total time to complete the homework: about 30 minutes.\n",
    "\n",
    "### Part A - Provide the SQL queries to answer the following questions (not the outputs):\n",
    "\n",
    "The evaluation of your queries will emphasize logic more than syntax.\n",
    "\n",
    "#### i) How many rows are there in the CLIENT table?"
   ]
  },
  {
   "cell_type": "markdown",
   "metadata": {},
   "source": [
    "##### Question i - double click and write your answer below:\n",
    "```*.sql\n",
    "SELECT COUNT(*) AS NUMBER_OF_ROWS\n",
    "FROM CLIENT\n",
    "```"
   ]
  },
  {
   "cell_type": "markdown",
   "metadata": {},
   "source": [
    "#### 1) How many transactions are there in the TRANSACTION table? (1 min)"
   ]
  },
  {
   "cell_type": "markdown",
   "metadata": {},
   "source": [
    "##### Question 1 - double click and write your answer below:\n",
    "```*.sql\n",
    "SELECT COUNT(*) NUMBER_OF_TRANSACTIONS\n",
    "FROM TRANSACTION;\n",
    "```"
   ]
  },
  {
   "cell_type": "markdown",
   "metadata": {},
   "source": [
    "#### 2) How many clients have been with the bank for at least 2 years (as of today, the day you do the homework)? (2 mins)"
   ]
  },
  {
   "cell_type": "markdown",
   "metadata": {},
   "source": [
    "##### Question 2 - double click and write your answer below:\n",
    "```*.sql\n",
    "SELECT COUNT(*) TOTAL_CLIENT\n",
    "FROM CLIENT\n",
    "/*Filter condition for date at or less than 2 years stripping time since today is a date, not datetime*/\n",
    "WHERE CAST(CLIENT_SINCE AS DATE) <= DATE_SUB(CURDATE(),INTERVAL 2 YEAR);\n",
    "```"
   ]
  },
  {
   "cell_type": "markdown",
   "metadata": {},
   "source": [
    "#### 3) Which client has the largest number of transactions? (2 mins)"
   ]
  },
  {
   "cell_type": "markdown",
   "metadata": {},
   "source": [
    "##### Question 3 - double click and write your answer below:\n",
    "```*.sql\n",
    "SELECT CLIENT_ID, COUNT(*) TRAN_CT  \n",
    "FROM TRANSACTION\n",
    "/*Aggregates count by client*/\n",
    "GROUP BY CLIENT_ID\n",
    "/*Orders by column 2 - transaction count*/\n",
    "ORDER BY 2 DESC\n",
    "/*Selects top 1*/\n",
    "LIMIT 1;\n",
    "```"
   ]
  },
  {
   "cell_type": "markdown",
   "metadata": {},
   "source": [
    "#### 4) Which clients have at least 5 ACH transactions (\"ACH\" is the type of the transaction, included in the description of the transaction)? (3 mins)"
   ]
  },
  {
   "cell_type": "markdown",
   "metadata": {},
   "source": [
    "##### Question 4 - double click and write your answer below:\n",
    "```*.sql\n",
    "SELECT CLIENT_ID FROM TRANSACTION \n",
    "/*Ensures that the term ACH is included in the description.  This is not tolerant to words containing ACH and could throw false positives*/\n",
    "WHERE TRAN_DESCRIPTION LIKE '%ACH%'\n",
    "GROUP BY CLIENT_ID\n",
    "/*Filters post agg for the count of each group to be at or above 5*/\n",
    "HAVING COUNT(*) >= 5;\n",
    "```"
   ]
  },
  {
   "cell_type": "markdown",
   "metadata": {},
   "source": [
    "#### 5) Produce a list of all clients with their total number of transactions? (3 mins)"
   ]
  },
  {
   "cell_type": "markdown",
   "metadata": {},
   "source": [
    "##### Question 5 - double click and write your answer below:\n",
    "```*.sql\n",
    "SELECT C.CLIENT_ID, count(TR.TRAN_ID) TRANSACTION_COUNT \n",
    "from CLIENT C \n",
    "/*Outer Join to allow for all client rows to show even when no transactions available*/\n",
    "LEFT JOIN TRANSACTION TR ON C.CLIENT_ID = TR.CLIENT_ID\n",
    "GROUP BY C.CLIENT_ID;\n",
    "```"
   ]
  },
  {
   "cell_type": "markdown",
   "metadata": {},
   "source": [
    "#### 6) Select all clients who have a valid email? (3 mins)"
   ]
  },
  {
   "cell_type": "markdown",
   "metadata": {},
   "source": [
    "##### Question 6 - double click and write your answer below:\n",
    "```*.sql\n",
    "SELECT CLIENT_ID\n",
    "FROM CLIENT \n",
    "/*Validates with regex to improve accuracy over comparing simply using a like search to ensure an @ and a . are in the email*/\n",
    "WHERE CLIENT_EMAIL REGEXP '^[A-Z0-9._%-]+@[A-Z0-9.-]+[\\.][A-Z]{2,4}$';\n",
    "```"
   ]
  },
  {
   "cell_type": "markdown",
   "metadata": {},
   "source": [
    "#### 7) Select the top 3 transactions for each client based on the \\$ amount (absolute $ amount)? (5 mins)\n",
    "\n",
    "[hint - TSQL](https://docs.microsoft.com/en-us/sql/t-sql/functions/row-number-transact-sql?view=sql-server-2017)\n",
    "\n",
    "[hint - PL/SQL](https://docs.oracle.com/cd/B19306_01/server.102/b14200/functions137.htm)\n",
    "\n",
    "[hint - MySQL](https://dev.mysql.com/doc/refman/8.0/en/window-functions-usage.html)"
   ]
  },
  {
   "cell_type": "markdown",
   "metadata": {},
   "source": [
    "##### Question 7 - double click and write your answer below:\n",
    "```*.sql\n",
    "SELECT T_RNK.* \n",
    "FROM (\n",
    "    SELECT *,\n",
    "    /*Creates ranking based on absolute value of the transaction*/\n",
    "    ROW_NUMBER() OVER (PARTITION BY CLIENT_ID ORDER BY ABS(TRAN_AMOUNT) DESC) RANKING\n",
    "    from TRANSACTION\n",
    "    ) T_RNK\n",
    "/*filters for top 3*/\n",
    "WHERE T_RNK.RANKING <=3\n",
    "```"
   ]
  },
  {
   "cell_type": "markdown",
   "metadata": {},
   "source": [
    "### Part B - For the following questions, provide an answer as plain english (not SQL queries):\n",
    "\n",
    "#### 8) Do queries A and B produce the same result and why? (2 mins)\n",
    "##### Query A:\n",
    "```*.sql\n",
    "SELECT COUNT(*) AS NUMBER_TRANSACTIONS\n",
    "FROM [TRANSACTION]\n",
    ";\n",
    "``` \n",
    "##### Query B:\n",
    "\n",
    "```*.sql\n",
    "SELECT COUNT(TRAN_DESCRIPTION) AS NUMBER_TRANSACTIONS\n",
    "FROM [TRANSACTION]\n",
    ";\n",
    "``` "
   ]
  },
  {
   "cell_type": "markdown",
   "metadata": {},
   "source": [
    "##### Question 8 - double click and write your answer below:\n",
    "<div style=\"color: green;\">\n",
    "\n",
    "No.  The COUNT() function excludes NULL so if it's performed only on TRAN_DESCRIPTION then any null descriptions will be excluded whereas when it's performed on * it will count every row given the non-null PK.\n",
    "\n",
    "</div>"
   ]
  },
  {
   "cell_type": "markdown",
   "metadata": {},
   "source": [
    "#### 9) Context:\n",
    "\n",
    "One of your collegue runs an ETL everyday (incremental load) in order to extract ACH transactions from the TRANSACTION table and use this piece of data as a feature for a machine learning model. The data pipeline is slow and the extraction of relevant transactions from the TRANSACTION table seems to be the bottleneck of this data pipeline. He asked the dba team (database administrator team) to create \"releavant\" indexes to smooth the process. The dba team replied that the TRANSACTION table already has an index on the primary key.\n",
    "\n",
    "#### Can you explain what will be your approach to better diagnose the situation and offer suggestion(s) to improve the data pipeline? (Pros and Cons). (3 mins)"
   ]
  },
  {
   "cell_type": "markdown",
   "metadata": {},
   "source": [
    "##### Question 9 - double click and write your answer below:\n",
    "<div style=\"color: green;\">\n",
    "\n",
    "The first approach is to understand what query is being run in the ETL and what the non performant piece by doing visually evaluating the expression and running an explain plan or execution plan (depending on the db). Based on the structure above, I'll assume the that a wildcard search on TRAN_DESCRIPTION is being used to which I'd suggest one or more of the following\n",
    "1. Indexed Search - adding an index to the column / columns being filtered on currently \n",
    "    1. Pro\n",
    "        1. Quick to Add\n",
    "        2. Can significantly improve query performance\n",
    "    2. Con\n",
    "        1. New Indexes can impact insert/update/delete performance\n",
    "        2. String indexes are not going to improve performance only if the string filter starts with a wildcard (ex.'%XX')\n",
    "<br><br>\n",
    "2. Add more filters to the search and indexes - ensure that additional filters are added to narrow in the date range to only look at eligible transactions and add indexes for the new filters\n",
    "    1. Pro\n",
    "        1. Quick to Add\n",
    "        2. Search will have less resource impact since a smaller subset of data is being processed\n",
    "    2. Con\n",
    "        1. May not be possible if updates to records outside of the date range need to be evaluated\n",
    "        2. More indexes increase the impact on insert/update/delete\n",
    "<br><br>\n",
    "4. Creation and auto-population of a new Type table or column via - This solution involves adding a new column to capture the \"Type\" or creating a second table that includes the Type and PK (depending on which has less system impact).  The assumption is that the type is held in such a way and indexed where a non-wildcard query could be performed and that there are more than just ACH transactions so a scalable solution is needed \n",
    "    1. Trigger after insert/update/delete\n",
    "        1. Pro\n",
    "            1. No updates needed beyond the database\n",
    "            2. An indexed, fully searchable column would significantly improve query performance\n",
    "            3. The risk of table locking would drastically decrease\n",
    "        2. Con\n",
    "            1. The expertise needed to implement and maintain is a lot higher\n",
    "            2. The insert/update/delete performance will be more significantly impacted with a trigger\n",
    "            3. A table structure change could have wider impacts to other systems using the database \n",
    "            4. Time will need to be spent to backwards populate existing records\n",
    "    2. Update the system writing the information\n",
    "        1. Pro\n",
    "            1. Insert/update/delete performance minimally impacted since the logic for the new identifier is performed before execution\n",
    "            2. An indexed, fully searchable column would significantly improve query performance\n",
    "            3. The risk of table locking would drastically decrease\n",
    "            4. This helps ensure that the system updating the db and the db are more closely aligned on the datamodel\n",
    "        2. Con\n",
    "            1. Changing legacy systems can be costly and have lengthy timelines if the changes are even possible\n",
    "            2. Grooming the different transaction types can prove lengthy \n",
    "            3. A table structure change could have wider impacts to other systems using the database \n",
    "            4. Time will need to be spent to backwards populate existing records\n",
    "\n",
    "</div>"
   ]
  },
  {
   "cell_type": "markdown",
   "metadata": {},
   "source": [
    "#### 10) How much time did you spend on this homework? Was it difficult or easy? (2 mins)"
   ]
  },
  {
   "cell_type": "markdown",
   "metadata": {},
   "source": [
    "##### Question 10 - double click and write your answer below:\n",
    "<div style=\"color: green;\">\n",
    "\n",
    "~40 min.  It was simple for the most part. A majority of the time was spent on formatting and annotating the answers. \n",
    "</div>"
   ]
  }
 ],
 "metadata": {
  "kernelspec": {
   "display_name": "Python 3",
   "language": "python",
   "name": "python3"
  },
  "language_info": {
   "codemirror_mode": {
    "name": "ipython",
    "version": 3
   },
   "file_extension": ".py",
   "mimetype": "text/x-python",
   "name": "python",
   "nbconvert_exporter": "python",
   "pygments_lexer": "ipython3",
   "version": "3.7.0"
  }
 },
 "nbformat": 4,
 "nbformat_minor": 2
}
